{
 "cells": [
  {
   "cell_type": "markdown",
   "metadata": {},
   "source": [
    "# Gravity and Magnetics Practicals"
   ]
  },
  {
   "cell_type": "markdown",
   "metadata": {},
   "source": [
    "These two practicals require you to produce Jupyter Notebooks.\n",
    "\n",
    "**The notebooks DO NOT automatically save. If you shut down the container using Kitematic, you will lose all of your work.**\n",
    "\n",
    "To save your work, you need to go to File->Download as->IPython Notebook. You can then copy the downloaded .ipynb file to your USB drive.\n",
    "\n",
    "<img src='download.png'>"
   ]
  },
  {
   "cell_type": "markdown",
   "metadata": {},
   "source": [
    "You can later copy your solution back into Jupyter with the Upload button within the ```gravity``` or ```magnetics``` folders. You can then open them to continue working on them.\n",
    "\n",
    "<img src='upload.png'>"
   ]
  },
  {
   "cell_type": "markdown",
   "metadata": {
    "collapsed": false
   },
   "source": [
    "## Gravity practical\n",
    "\n",
    "[Click here to open the folder](/tree/gravity). The folder contains useful research papers and the Python functions that you need to complete your solution.\n",
    "\n",
    "[Click here to open the notebook](/tree/gravity/Gravity.ipynb). You should modify the notebook to produce your solution."
   ]
  },
  {
   "cell_type": "markdown",
   "metadata": {
    "collapsed": false
   },
   "source": [
    "## Magnetics practical\n",
    "\n",
    "[Click here to open the folder](/tree/magnetics). The folder contains useful research papers and the Python functions that you need to complete your solution.\n",
    "\n",
    "[Click here to open the notebook](/tree/magnetics/Magnetics.ipynb). You should modify the notebook to produce your solution."
   ]
  }
 ],
 "metadata": {
  "kernelspec": {
   "display_name": "Python 2",
   "language": "python",
   "name": "python2"
  },
  "language_info": {
   "codemirror_mode": {
    "name": "ipython",
    "version": 2
   },
   "file_extension": ".py",
   "mimetype": "text/x-python",
   "name": "python",
   "nbconvert_exporter": "python",
   "pygments_lexer": "ipython2",
   "version": "2.7.11"
  }
 },
 "nbformat": 4,
 "nbformat_minor": 0
}
